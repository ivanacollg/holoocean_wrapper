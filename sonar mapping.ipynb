{
 "cells": [
  {
   "cell_type": "code",
   "execution_count": null,
   "metadata": {},
   "outputs": [],
   "source": [
    "import cv2\n",
    "import holoocean\n",
    "import numpy as np\n",
    "import matplotlib.pyplot as plt\n",
    "from scipy.interpolate import interp1d"
   ]
  },
  {
   "cell_type": "code",
   "execution_count": null,
   "metadata": {},
   "outputs": [],
   "source": [
    "scenario = \"OpenWater-HoveringImagingSonar\"\n",
    "env = holoocean.make(scenario)\n",
    "\n",
    "env.act('auv0', [0,0,0,0,0,0,0,0])\n",
    "env.weather.set_fog_density(0.0)\n",
    "\n",
    "while True:\n",
    "    state = env.tick()\n",
    "    if \"HorizontalSonar\" in state:\n",
    "        break"
   ]
  },
  {
   "cell_type": "code",
   "execution_count": null,
   "metadata": {},
   "outputs": [],
   "source": [
    "config = holoocean.packagemanager.get_scenario(scenario)\n",
    "config = config['agents'][0]['sensors'][-1][\"configuration\"]\n",
    "horizontal_fov = float(config['Azimuth'])\n",
    "range_resolution = (config['RangeMax'] - config['RangeMin']) / 512\n",
    "height = range_resolution * config['RangeBins']\n",
    "rows = config['RangeBins']\n",
    "width = np.sin(np.radians(horizontal_fov / 2)) * height * 2\n",
    "cols = int(np.ceil(width / range_resolution))\n",
    "bearings = np.radians(np.linspace(-horizontal_fov/2, horizontal_fov/2, config['AzimuthBins']))\n",
    "f_bearings = interp1d(\n",
    "            bearings,\n",
    "            range(len(bearings)),\n",
    "            kind='linear',\n",
    "            bounds_error=False,\n",
    "            fill_value=-1,\n",
    "            assume_sorted=True)\n",
    "\n",
    "#build the meshgrid\n",
    "XX, YY = np.meshgrid(range(cols), range(rows))\n",
    "x = range_resolution * (rows - YY)\n",
    "y = range_resolution * (-cols / 2.0 + XX + 0.5)\n",
    "b = np.arctan2(y, x) * -1\n",
    "r = np.sqrt(np.square(x) + np.square(y))\n",
    "map_y = np.asarray(r / range_resolution, dtype=np.float32)\n",
    "map_x = np.asarray(f_bearings(b), dtype=np.float32)"
   ]
  },
  {
   "cell_type": "code",
   "execution_count": null,
   "metadata": {},
   "outputs": [],
   "source": [
    "img = np.array(state[\"HorizontalSonar\"] * 255).astype(np.uint8)\n",
    "vis_img = cv2.remap(img, map_x, map_y, cv2.INTER_LINEAR)"
   ]
  },
  {
   "cell_type": "code",
   "execution_count": null,
   "metadata": {},
   "outputs": [],
   "source": [
    "plt.imshow(vis_img)"
   ]
  }
 ],
 "metadata": {
  "kernelspec": {
   "display_name": "Python 3",
   "language": "python",
   "name": "python3"
  },
  "language_info": {
   "codemirror_mode": {
    "name": "ipython",
    "version": 3
   },
   "file_extension": ".py",
   "mimetype": "text/x-python",
   "name": "python",
   "nbconvert_exporter": "python",
   "pygments_lexer": "ipython3",
   "version": "3.8.5"
  }
 },
 "nbformat": 4,
 "nbformat_minor": 4
}
